{
 "cells": [
  {
   "cell_type": "code",
   "execution_count": 1,
   "metadata": {
    "ExecuteTime": {
     "end_time": "2020-12-04T12:49:37.561784Z",
     "start_time": "2020-12-04T12:49:37.553396Z"
    }
   },
   "outputs": [],
   "source": [
    "x = 1"
   ]
  },
  {
   "cell_type": "code",
   "execution_count": 2,
   "metadata": {
    "ExecuteTime": {
     "end_time": "2020-12-04T12:49:46.316904Z",
     "start_time": "2020-12-04T12:49:46.311265Z"
    }
   },
   "outputs": [],
   "source": [
    "y = 7"
   ]
  },
  {
   "cell_type": "code",
   "execution_count": 5,
   "metadata": {
    "ExecuteTime": {
     "end_time": "2020-12-04T12:51:42.731217Z",
     "start_time": "2020-12-04T12:51:42.712799Z"
    }
   },
   "outputs": [],
   "source": [
    "def is_less_than(x, y):\n",
    "    if x < y:\n",
    "        print(x, \"is less than\", y)\n",
    "    elif x == y:\n",
    "        print(x, \"equals\", y)\n",
    "    else:\n",
    "        print(x, \" is more than\", y)"
   ]
  },
  {
   "cell_type": "code",
   "execution_count": 6,
   "metadata": {
    "ExecuteTime": {
     "end_time": "2020-12-04T12:51:57.607798Z",
     "start_time": "2020-12-04T12:51:57.593923Z"
    }
   },
   "outputs": [
    {
     "name": "stdout",
     "output_type": "stream",
     "text": [
      "1 is less than 7\n"
     ]
    }
   ],
   "source": [
    "is_less_than(1, 7)"
   ]
  },
  {
   "cell_type": "code",
   "execution_count": 7,
   "metadata": {
    "ExecuteTime": {
     "end_time": "2020-12-04T12:52:10.346299Z",
     "start_time": "2020-12-04T12:52:10.339535Z"
    }
   },
   "outputs": [
    {
     "name": "stdout",
     "output_type": "stream",
     "text": [
      "9  is more than 2\n"
     ]
    }
   ],
   "source": [
    "is_less_than(9, 2)"
   ]
  },
  {
   "cell_type": "code",
   "execution_count": null,
   "metadata": {},
   "outputs": [],
   "source": []
  }
 ],
 "metadata": {
  "kernelspec": {
   "display_name": "Python 3",
   "language": "python",
   "name": "python3"
  },
  "language_info": {
   "codemirror_mode": {
    "name": "ipython",
    "version": 3
   },
   "file_extension": ".py",
   "mimetype": "text/x-python",
   "name": "python",
   "nbconvert_exporter": "python",
   "pygments_lexer": "ipython3",
   "version": "3.8.3"
  }
 },
 "nbformat": 4,
 "nbformat_minor": 4
}
